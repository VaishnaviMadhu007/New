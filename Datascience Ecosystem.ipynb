{
 "cells": [
  {
   "cell_type": "markdown",
   "id": "ea242ab5",
   "metadata": {},
   "source": [
    "# DataScience Tools and Ecosystem"
   ]
  },
  {
   "cell_type": "markdown",
   "id": "1c777fec",
   "metadata": {},
   "source": [
    "## In this notebook, Data Science Tools and Ecosystem are summarized"
   ]
  },
  {
   "cell_type": "markdown",
   "id": "78be6139",
   "metadata": {},
   "source": [
    " **Objectives**:\n",
    "- List the popular Languages for Data Science\n",
    "- List the popular libraries used in Data Science\n",
    "- Examples of arithmetic expression used in Data Science\n",
    "- Convert Minutes into Hours"
   ]
  },
  {
   "cell_type": "markdown",
   "id": "33f05d1c",
   "metadata": {},
   "source": [
    "### Some of the popular languages that Data Scientist use are:\n",
    "1. Python\n",
    "2. R\n",
    "3. SQL\n",
    "4. Javascript\n"
   ]
  },
  {
   "cell_type": "markdown",
   "id": "fc7814de",
   "metadata": {},
   "source": [
    "### Some of the commonly used libraries used by Data Scientists include:\n",
    "1. Pandas\n",
    "2. Numpy\n",
    "3. Scipy\n",
    "4. Matlpotlib"
   ]
  },
  {
   "cell_type": "markdown",
   "id": "1b47d8fb",
   "metadata": {},
   "source": [
    "|Data Science Tools|\n",
    "------------------------\n",
    "|R studio\n",
    "|Jupyter\n",
    "|Jupyter Notebook\n",
    "\n"
   ]
  },
  {
   "cell_type": "markdown",
   "id": "cbe59322",
   "metadata": {},
   "source": [
    "### Below are a few examples of evaluating arithmetic expressions in python\n",
    "- x+y\n",
    "- x-y\n",
    "- x(y*2)\n",
    "- x/y\n"
   ]
  },
  {
   "cell_type": "code",
   "execution_count": 3,
   "id": "b490c58f",
   "metadata": {},
   "outputs": [],
   "source": [
    "# This a simpe arithmetic expression to multiply then add integers"
   ]
  },
  {
   "cell_type": "code",
   "execution_count": 1,
   "id": "5d42c79c",
   "metadata": {},
   "outputs": [
    {
     "data": {
      "text/plain": [
       "17"
      ]
     },
     "execution_count": 1,
     "metadata": {},
     "output_type": "execute_result"
    }
   ],
   "source": [
    "(3*4)+5"
   ]
  },
  {
   "cell_type": "code",
   "execution_count": 4,
   "id": "0cb629ea",
   "metadata": {},
   "outputs": [
    {
     "data": {
      "text/plain": [
       "3.3333333333333335"
      ]
     },
     "execution_count": 4,
     "metadata": {},
     "output_type": "execute_result"
    }
   ],
   "source": [
    "# This will convert 200 minutes to hours by dividing by 60\n",
    "200/60"
   ]
  },
  {
   "cell_type": "markdown",
   "id": "8b218d24",
   "metadata": {},
   "source": [
    "## Author\n",
    "Vaishnavi"
   ]
  },
  {
   "cell_type": "code",
   "execution_count": null,
   "id": "116338bd",
   "metadata": {},
   "outputs": [],
   "source": []
  }
 ],
 "metadata": {
  "kernelspec": {
   "display_name": "Python 3 (ipykernel)",
   "language": "python",
   "name": "python3"
  },
  "language_info": {
   "codemirror_mode": {
    "name": "ipython",
    "version": 3
   },
   "file_extension": ".py",
   "mimetype": "text/x-python",
   "name": "python",
   "nbconvert_exporter": "python",
   "pygments_lexer": "ipython3",
   "version": "3.10.9"
  }
 },
 "nbformat": 4,
 "nbformat_minor": 5
}
